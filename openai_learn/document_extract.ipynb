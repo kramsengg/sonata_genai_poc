{
 "cells": [
  {
   "cell_type": "code",
   "execution_count": 42,
   "metadata": {},
   "outputs": [],
   "source": [
    "import textract\n",
    "import os\n",
    "import openai\n",
    "import tiktoken\n",
    "import time\n",
    "\n",
    "from openai import OpenAI\n",
    "\n"
   ]
  },
  {
   "cell_type": "code",
   "execution_count": 50,
   "metadata": {},
   "outputs": [],
   "source": [
    "import os\n",
    "client = openai.OpenAI(api_key=os.getenv(\"OPENAI_API_KEY\",\"\"))"
   ]
  },
  {
   "cell_type": "code",
   "execution_count": 51,
   "metadata": {},
   "outputs": [],
   "source": [
    "text = textract.process(\"../uploads/fia_f1_power_unit_financial_regulations_issue_1_-_2022-08-16.pdf\",method=\"pdfminer\").decode(\"utf-8\")\n",
    "#text = textract.process(\"../uploads/uber_2021.pdf\",method=\"pdfminer\").decode(\"utf-8\")\n",
    "\n",
    "clean_text = text.replace(\"  \", \" \").replace(\"\\n\",\"; \").replace(';',' ')"
   ]
  },
  {
   "cell_type": "code",
   "execution_count": 52,
   "metadata": {},
   "outputs": [
    {
     "name": "stdout",
     "output_type": "stream",
     "text": [
      "Extract key pieces of information from this regulation document.\n",
      "If a particular piece of information is not present, output \"Not specified\".\n",
      "When you extract a key piece of information, include the closest page number.\n",
      "Use the following format:\n",
      "0. Who is the author\n",
      "1. What is the amount of the \"Power Unit Cost Cap\" in USD, GBP and EUR\n",
      "2. What is the value of External Manufacturing Costs in USD\n",
      "3. What is the Capital Expenditure Limit in USD\n",
      "\n",
      "Document: \"\"\"<document>\"\"\"\n",
      "\n",
      "0. Who is the author: Tom Anderson (Page 1)\n",
      "1.\n",
      "\n"
     ]
    }
   ],
   "source": [
    "documet='<document>'\n",
    "template_promt=f'''Extract key pieces of information from this regulation document.\n",
    "If a particular piece of information is not present, output \\\"Not specified\\\".\n",
    "When you extract a key piece of information, include the closest page number.\n",
    "Use the following format:\\n0. Who is the author\\n1. What is the amount of the \"Power Unit Cost Cap\" in USD, GBP and EUR\\n2. What is the value of External Manufacturing Costs in USD\\n3. What is the Capital Expenditure Limit in USD\\n\\nDocument: \\\"\\\"\\\"<document>\\\"\\\"\\\"\\n\\n0. Who is the author: Tom Anderson (Page 1)\\n1.\n",
    "'''\n",
    "print(template_promt)"
   ]
  },
  {
   "cell_type": "code",
   "execution_count": 53,
   "metadata": {},
   "outputs": [],
   "source": [
    "def create_chunk(text, n, tokenizer):\n",
    "    tokens = tokenizer.encode(text)\n",
    "    \"\"\"Yield successive n-sized chunks from text.\"\"\"\n",
    "    i = 0\n",
    "    while i < len(tokens):\n",
    "        j = min(i + int(1.5 * n), len(tokens))\n",
    "        while j > i + int(0.5 * n):\n",
    "            chunk = tokenizer.decode(tokens[i:j])\n",
    "            if chunk.endswith(\".\") or chunk.endswith(\"\\n\"):\n",
    "                break\n",
    "            j -= 1\n",
    "        \n",
    "        if j == i + int(0.5 * n):\n",
    "            j = min( i + n , len(tokens))\n",
    "        yield tokens[i:j]\n",
    "        i = j\n",
    "\n",
    "\n",
    "def extract_chunk(document, template_promt):\n",
    "    retry_count = 0\n",
    "    max_retries = 3\n",
    "    backoff_time = 20  # Initial backoff time in seconds\n",
    "    \n",
    "    prompt = template_promt.replace('<document>',document)\n",
    "\n",
    "    while retry_count < max_retries:\n",
    "        try:\n",
    "            messages = [\n",
    "                {\"role\":\"system\", \"content\": \"You help extract information from documents.\"},\n",
    "                {\"role\":\"user\", \"content\": prompt}\n",
    "            ]\n",
    "\n",
    "            response = client.chat.completions.create(\n",
    "                model=\"gpt-3.5-turbo\",\n",
    "                messages=messages,\n",
    "                temperature=0,\n",
    "                max_tokens=1500,\n",
    "                top_p=1,\n",
    "                frequency_penalty=0,\n",
    "                presence_penalty=0\n",
    "            )\n",
    "\n",
    "            return \"1.\" + response.choices[0].message.content\n",
    "        \n",
    "        except openai.RateLimitError as e:\n",
    "            print(f\"Rate limit exceeded. Waiting for {backoff_time} seconds before retrying.\")\n",
    "            time.sleep(backoff_time)\n",
    "            backoff_time *= 2  # Exponential backoff\n",
    "            retry_count += 1\n",
    "    # If we reach this point, all retries have failed\n",
    "    raise Exception(\"Max retries reached. Unable to complete the operation.\")"
   ]
  },
  {
   "cell_type": "code",
   "execution_count": 54,
   "metadata": {},
   "outputs": [
    {
     "name": "stdout",
     "output_type": "stream",
     "text": [
      "1.0. Who is the author: Tom Anderson (Page 1)\n",
      "1. What is the amount of the \"Power Unit Cost Cap\" in USD, GBP and EUR: Not specified\n",
      "2. What is the value of External Manufacturing Costs in USD: Not specified\n",
      "3. What is the Capital Expenditure Limit in USD: Not specified\n",
      "1.1. What is the amount of the \"Power Unit Cost Cap\" in USD, GBP and EUR: \n",
      "   - USD: $95,000,000 for Full Year Reporting Periods ending on 31 December 2023, 31 December 2024, and 31 December 2025; $130,000,000 for the Full Year Reporting Period ending on 31 December 2026 and subsequent periods (Page 1)\n",
      "   - GBP: Not specified\n",
      "   - EUR: Not specified\n",
      "\n",
      "2. What is the value of External Manufacturing Costs in USD: Not specified\n",
      "\n",
      "3. What is the Capital Expenditure Limit in USD: Not specified\n",
      "1.1. What is the amount of the \"Power Unit Cost Cap\" in USD, GBP and EUR: Not specified\n",
      "2. What is the value of External Manufacturing Costs in USD: Not specified\n",
      "3. What is the Capital Expenditure Limit in USD: Not specified\n",
      "1.0. Who is the author: Tom Anderson (Page 1)\n",
      "1. What is the amount of the \"Power Unit Cost Cap\" in USD, GBP and EUR: Not specified\n",
      "2. What is the value of External Manufacturing Costs in USD: $20,000,000 (Page 10)\n",
      "3. What is the Capital Expenditure Limit in USD: Not specified\n",
      "1.0. Who is the author: Tom Anderson (Page 1)\n",
      "1. What is the amount of the \"Power Unit Cost Cap\" in USD, GBP and EUR: Not specified\n",
      "2. What is the value of External Manufacturing Costs in USD: Not specified\n",
      "3. What is the Capital Expenditure Limit in USD: Not specified\n",
      "1.1. What is the amount of the \"Power Unit Cost Cap\" in USD, GBP and EUR: Not specified\n",
      "2. What is the value of External Manufacturing Costs in USD: Not specified\n",
      "3. What is the Capital Expenditure Limit in USD: Not specified\n",
      "1.0. Who is the author: Tom Anderson (Page 1)\n",
      "1. What is the amount of the \"Power Unit Cost Cap\" in USD, GBP and EUR: Not specified\n",
      "2. What is the value of External Manufacturing Costs in USD: Not specified\n",
      "3. What is the Capital Expenditure Limit in USD: Not specified\n",
      "1.0. Who is the author: Tom Anderson (Page 1)\n",
      "1. What is the amount of the \"Power Unit Cost Cap\" in USD, GBP and EUR: Not specified\n",
      "2. What is the value of External Manufacturing Costs in USD: Not specified\n",
      "3. What is the Capital Expenditure Limit in USD: Not specified\n",
      "1.1. What is the amount of the \"Power Unit Cost Cap\" in USD, GBP and EUR: Not specified\n",
      "2. What is the value of External Manufacturing Costs in USD: Not specified\n",
      "3. What is the Capital Expenditure Limit in USD: Not specified\n",
      "1.1. What is the amount of the \"Power Unit Cost Cap\" in USD, GBP and EUR: Not specified\n",
      "2. What is the value of External Manufacturing Costs in USD: Not specified\n",
      "3. What is the Capital Expenditure Limit in USD: Not specified\n",
      "1.1. What is the amount of the \"Power Unit Cost Cap\" in USD, GBP and EUR: Not specified\n",
      "2. What is the value of External Manufacturing Costs in USD: Not specified\n",
      "3. What is the Capital Expenditure Limit in USD: Not specified\n",
      "1.1. What is the amount of the \"Power Unit Cost Cap\" in USD, GBP and EUR: Not specified\n",
      "2. What is the value of External Manufacturing Costs in USD: Not specified\n",
      "3. What is the Capital Expenditure Limit in USD: Not specified\n",
      "1.0. Who is the author: Tom Anderson (Page 1)\n",
      "1. What is the amount of the \"Power Unit Cost Cap\" in USD, GBP and EUR: Not specified\n",
      "2. What is the value of External Manufacturing Costs in USD: Not specified\n",
      "3. What is the Capital Expenditure Limit in USD: Not specified\n",
      "1.0. Who is the author: Tom Anderson (Page 1)\n",
      "1. What is the amount of the \"Power Unit Cost Cap\" in USD, GBP and EUR: Not specified\n",
      "2. What is the value of External Manufacturing Costs in USD: Not specified\n",
      "3. What is the Capital Expenditure Limit in USD: $30,000,000 (Page 32)\n",
      "1.0. Who is the author: Tom Anderson (Page 1)\n",
      "1. What is the amount of the \"Power Unit Cost Cap\" in USD, GBP and EUR: Not specified\n",
      "2. What is the value of External Manufacturing Costs in USD: Not specified\n",
      "3. What is the Capital Expenditure Limit in USD: Not specified\n",
      "1.0. Who is the author: Tom Anderson (Page 1)\n",
      "1. What is the amount of the \"Power Unit Cost Cap\" in USD, GBP and EUR: Not specified\n",
      "2. What is the value of External Manufacturing Costs in USD: Not specified\n",
      "3. What is the Capital Expenditure Limit in USD: Not specified\n",
      "1.0. Who is the author: Tom Anderson (Page 1)\n",
      "1. What is the amount of the \"Power Unit Cost Cap\" in USD, GBP and EUR: Not specified\n",
      "2. What is the value of External Manufacturing Costs in USD: Not specified\n",
      "3. What is the Capital Expenditure Limit in USD: Not specified\n",
      "1.1. What is the amount of the \"Power Unit Cost Cap\" in USD, GBP and EUR: Not specified\n",
      "2. What is the value of External Manufacturing Costs in USD: Not specified\n",
      "3. What is the Capital Expenditure Limit in USD: Not specified\n",
      "1.0. Who is the author: Tom Anderson (Page 1)\n",
      "1. What is the amount of the \"Power Unit Cost Cap\" in USD, GBP and EUR: Not specified\n",
      "2. What is the value of External Manufacturing Costs in USD: Not specified\n",
      "3. What is the Capital Expenditure Limit in USD: Not specified\n",
      "1.1. What is the amount of the \"Power Unit Cost Cap\" in USD, GBP and EUR: Not specified\n",
      "2. What is the value of External Manufacturing Costs in USD: Not specified\n",
      "3. What is the Capital Expenditure Limit in USD: Not specified\n",
      "1.0. Who is the author: Not specified\n",
      "1. What is the amount of the \"Power Unit Cost Cap\" in USD, GBP and EUR: Not specified\n",
      "2. What is the value of External Manufacturing Costs in USD: Not specified\n",
      "3. What is the Capital Expenditure Limit in USD: Not specified\n",
      "1.1. What is the amount of the \"Power Unit Cost Cap\" in USD, GBP and EUR: Not specified\n",
      "2. What is the value of External Manufacturing Costs in USD: Not specified\n",
      "3. What is the Capital Expenditure Limit in USD: Not specified\n",
      "1.1. What is the amount of the \"Power Unit Cost Cap\" in USD, GBP and EUR: Not specified\n",
      "2. What is the value of External Manufacturing Costs in USD: Not specified\n",
      "3. What is the Capital Expenditure Limit in USD: Not specified\n",
      "1.1. What is the amount of the \"Power Unit Cost Cap\" in USD, GBP and EUR: Not specified\n",
      "2. What is the value of External Manufacturing Costs in USD: Not specified\n",
      "3. What is the Capital Expenditure Limit in USD: Not specified\n",
      "1.0. Who is the author: Tom Anderson (Page 1)\n",
      "1. What is the amount of the \"Power Unit Cost Cap\" in USD, GBP and EUR: Not specified\n",
      "2. What is the value of External Manufacturing Costs in USD: Not specified\n",
      "3. What is the Capital Expenditure Limit in USD: Not specified\n",
      "1.1. What is the amount of the \"Power Unit Cost Cap\" in USD, GBP and EUR: Not specified\n",
      "2. What is the value of External Manufacturing Costs in USD: Not specified\n",
      "3. What is the Capital Expenditure Limit in USD: Not specified\n"
     ]
    }
   ],
   "source": [
    "tokenizer = tiktoken.get_encoding(\"cl100k_base\")\n",
    "results = []\n",
    "\n",
    "chunks = create_chunk(clean_text, 1000, tokenizer)\n",
    "\n",
    "text_chunks = [tokenizer.decode(chunk) for chunk in chunks]\n",
    "for chunk in text_chunks:\n",
    "    results.append(extract_chunk(chunk, template_promt))\n",
    "    print(results[-1])"
   ]
  },
  {
   "cell_type": "code",
   "execution_count": 55,
   "metadata": {},
   "outputs": [
    {
     "data": {
      "text/plain": [
       "['1.0. Who is the author: Tom Anderson (Page 1)',\n",
       " '1.1. What is the amount of the \"Power Unit Cost Cap\" in USD, GBP and EUR: ',\n",
       " '1.0. Who is the author: Tom Anderson (Page 1)',\n",
       " '1.0. Who is the author: Tom Anderson (Page 1)',\n",
       " '1.0. Who is the author: Tom Anderson (Page 1)',\n",
       " '1.0. Who is the author: Tom Anderson (Page 1)',\n",
       " '1.0. Who is the author: Tom Anderson (Page 1)',\n",
       " '1.0. Who is the author: Tom Anderson (Page 1)',\n",
       " '1.0. Who is the author: Tom Anderson (Page 1)',\n",
       " '1.0. Who is the author: Tom Anderson (Page 1)',\n",
       " '1.0. Who is the author: Tom Anderson (Page 1)',\n",
       " '1.0. Who is the author: Tom Anderson (Page 1)',\n",
       " '1.0. Who is the author: Tom Anderson (Page 1)',\n",
       " '   - USD: $95,000,000 for Full Year Reporting Periods ending on 31 December 2023, 31 December 2024, and 31 December 2025; $130,000,000 for the Full Year Reporting Period ending on 31 December 2026 and subsequent periods (Page 1)',\n",
       " '2. What is the value of External Manufacturing Costs in USD: $20,000,000 (Page 10)']"
      ]
     },
     "execution_count": 55,
     "metadata": {},
     "output_type": "execute_result"
    }
   ],
   "source": [
    "groups = [r.split('\\n') for r in results]\n",
    "\n",
    "zipped = list(zip(*groups))\n",
    "zipped = [x for y in zipped for x in y if \"Not specified\" not in x and \"__\" not in x]\n",
    "zipped"
   ]
  },
  {
   "cell_type": "code",
   "execution_count": 56,
   "metadata": {},
   "outputs": [
    {
     "name": "stdout",
     "output_type": "stream",
     "text": [
      "Extract key pieces of information from this regulation document.\n",
      "If a particular piece of information is not present, output \"Not specified\".\n",
      "When you extract a key piece of information, include the closest page number.\n",
      "Use the following format:\n",
      "0. Who is the author\n",
      "1. How is a Minor Overspend Breach calculated\n",
      "2. How is a Major Overspend Breach calculated\n",
      "3. Which years do these financial regulations apply to\n",
      "\n",
      "Document: \"\"\"<document>\"\"\"\n",
      "\n",
      "0. Who is the author: Tom Anderson (Page 1)\n",
      "1.\n"
     ]
    }
   ],
   "source": [
    "template_prompt = f'''Extract key pieces of information from this regulation document.\n",
    "If a particular piece of information is not present, output \\\"Not specified\\\".\n",
    "When you extract a key piece of information, include the closest page number.\n",
    "Use the following format:\\n0. Who is the author\\n1. How is a Minor Overspend Breach calculated\\n2. How is a Major Overspend Breach calculated\\n3. Which years do these financial regulations apply to\\n\\nDocument: \\\"\\\"\\\"<document>\\\"\\\"\\\"\\n\\n0. Who is the author: Tom Anderson (Page 1)\\n1.'''\n",
    "print(template_prompt)"
   ]
  },
  {
   "cell_type": "code",
   "execution_count": 57,
   "metadata": {},
   "outputs": [
    {
     "data": {
      "text/plain": [
       "['1.1. How is a Minor Overspend Breach calculated: If the Cost Cap Administration determines that a Power Unit Manufacturer has committed a Minor Overspend Breach, they may enter into an accepted breach agreement (an \"ABA\") with the relevant Power Unit Manufacturer. (Page 18)',\n",
       " '1.1. How is a Minor Overspend Breach calculated: A \"Minor Overspend Breach\" arises when a Power Unit Manufacturer submits its Full Year Reporting Documentation and Relevant Costs reported therein exceed the Power Unit Cost Cap by less than 5% (Page 25)']"
      ]
     },
     "execution_count": 57,
     "metadata": {},
     "output_type": "execute_result"
    }
   ],
   "source": [
    "results = []\n",
    "\n",
    "for chunk in text_chunks:\n",
    "    results.append(extract_chunk(chunk, template_prompt))\n",
    "\n",
    "groups = [r.split('\\n') for r in results]\n",
    "\n",
    "zipped = list(zip(*groups))\n",
    "zipped = [x for y in zipped for x in y if \"Not specified\" not in x and \"__\" not in x]\n",
    "zipped"
   ]
  },
  {
   "cell_type": "code",
   "execution_count": 14,
   "metadata": {},
   "outputs": [],
   "source": [
    "from tenacity import retry, wait_random_exponential, stop_after_attempt, retry_if_not_exception_type\n",
    "\n",
    "EMBEDDING_MODEL = 'text-embedding-3-small'\n",
    "EMBEDDING_CTX_LENGTH = 8191\n",
    "EMBEDDING_ENCODING = 'cl100k_base'\n",
    "\n",
    "\n",
    "@retry()\n",
    "def get_embedding(text_or_tokens, model=EMBEDDING_MODEL):\n",
    "    return client.embeddings.create(input=text_or_tokens, model=model).data[0].embedding"
   ]
  },
  {
   "cell_type": "code",
   "execution_count": 16,
   "metadata": {},
   "outputs": [],
   "source": [
    "def truncate_text_tokens(text, encoding_name=EMBEDDING_ENCODING, max_tokens=EMBEDDING_CTX_LENGTH):\n",
    "    \"\"\"Truncate a string to have `max_tokens` according to the given encoding.\"\"\"\n",
    "    encoding = tiktoken.get_encoding(encoding_name)\n",
    "    return encoding.encode(text)[:max_tokens]"
   ]
  },
  {
   "cell_type": "code",
   "execution_count": 18,
   "metadata": {},
   "outputs": [
    {
     "data": {
      "text/plain": [
       "1536"
      ]
     },
     "execution_count": 18,
     "metadata": {},
     "output_type": "execute_result"
    }
   ],
   "source": [
    "long_text = 'AGI ' * 5000\n",
    "# try:\n",
    "#     get_embedding(long_text)\n",
    "# except openai.BadRequestError as e:\n",
    "#     print(e)\n",
    "\n",
    "truncated = truncate_text_tokens(long_text)\n",
    "len(get_embedding(truncated))"
   ]
  },
  {
   "cell_type": "code",
   "execution_count": 20,
   "metadata": {},
   "outputs": [],
   "source": [
    "from itertools import islice\n",
    "\n",
    "def batched(iterable, n):\n",
    "    \"\"\"Batch data into tuples of length n. The last batch may be shorter.\"\"\"\n",
    "    # batched('ABCDEFG', 3) --> ABC DEF G\n",
    "    if n < 1:\n",
    "        raise ValueError('n must be at least one')\n",
    "    it = iter(iterable)\n",
    "    while (batch := tuple(islice(it, n))):\n",
    "        yield batch"
   ]
  },
  {
   "cell_type": "code",
   "execution_count": 21,
   "metadata": {},
   "outputs": [],
   "source": [
    "def chunked_tokens(text, encoding_name, chunk_length):\n",
    "    encoding = tiktoken.get_encoding(encoding_name)\n",
    "    tokens = encoding.encode(text)\n",
    "    chunks_iterator = batched(tokens, chunk_length)\n",
    "    yield from chunks_iterator"
   ]
  },
  {
   "cell_type": "code",
   "execution_count": 23,
   "metadata": {},
   "outputs": [],
   "source": [
    "import numpy as np\n",
    "\n",
    "def len_safe_get_embedding(text, model=EMBEDDING_MODEL, max_tokens=EMBEDDING_CTX_LENGTH, encoding_name=EMBEDDING_ENCODING, average=True):\n",
    "    chunk_embeddings = []\n",
    "    chunk_lens = []\n",
    "    for chunk in chunked_tokens(text, encoding_name=encoding_name, chunk_length=max_tokens):\n",
    "        chunk_embeddings.append(get_embedding(chunk, model=model))\n",
    "        chunk_lens.append(len(chunk))\n",
    "\n",
    "    if average:\n",
    "        chunk_embeddings = np.average(chunk_embeddings, axis=0, weights=chunk_lens)\n",
    "        chunk_embeddings = chunk_embeddings / np.linalg.norm(chunk_embeddings)  # normalizes length to 1\n",
    "        chunk_embeddings = chunk_embeddings.tolist()\n",
    "    return chunk_embeddings"
   ]
  },
  {
   "cell_type": "code",
   "execution_count": 24,
   "metadata": {},
   "outputs": [
    {
     "name": "stdout",
     "output_type": "stream",
     "text": [
      "Setting average=True gives us a single 1536-dimensional embedding vector for our long text.\n",
      "Setting average=False gives us 2 embedding vectors, one for each of the chunks.\n"
     ]
    }
   ],
   "source": [
    "average_embedding_vector = len_safe_get_embedding(long_text, average=True)\n",
    "chunks_embedding_vectors = len_safe_get_embedding(long_text, average=False)\n",
    "\n",
    "print(f\"Setting average=True gives us a single {len(average_embedding_vector)}-dimensional embedding vector for our long text.\")\n",
    "print(f\"Setting average=False gives us {len(chunks_embedding_vectors)} embedding vectors, one for each of the chunks.\")\n"
   ]
  },
  {
   "cell_type": "code",
   "execution_count": 28,
   "metadata": {},
   "outputs": [],
   "source": [
    "import ast\n",
    "import pandas as pd\n",
    "from scipy import spatial\n",
    "\n",
    "\n",
    "# models\n",
    "EMBEDDING_MODEL = \"text-embedding-ada-002\"\n",
    "GPT_MODEL = \"gpt-3.5-turbo\"\n"
   ]
  },
  {
   "cell_type": "code",
   "execution_count": 29,
   "metadata": {},
   "outputs": [
    {
     "name": "stdout",
     "output_type": "stream",
     "text": [
      "The Swedish men's curling team won the gold medal in the men's curling event at the 2022 Winter Olympics. The Swedish team defeated Great Britain in the final to claim the gold medal.\n"
     ]
    }
   ],
   "source": [
    "query = 'Which athletes won the gold medal in curling at the 2022 Winter Olympics?'\n",
    "\n",
    "response = client.chat.completions.create(\n",
    "    messages=[\n",
    "        {'role': 'system', 'content': 'You answer questions about the 2022 Winter Olympics.'},\n",
    "        {'role': 'user', 'content': query},\n",
    "    ],\n",
    "    model=GPT_MODEL,\n",
    "    temperature=0,\n",
    ")\n",
    "\n",
    "print(response.choices[0].message.content)"
   ]
  }
 ],
 "metadata": {
  "kernelspec": {
   "display_name": "genai",
   "language": "python",
   "name": "python3"
  },
  "language_info": {
   "codemirror_mode": {
    "name": "ipython",
    "version": 3
   },
   "file_extension": ".py",
   "mimetype": "text/x-python",
   "name": "python",
   "nbconvert_exporter": "python",
   "pygments_lexer": "ipython3",
   "version": "3.10.12"
  }
 },
 "nbformat": 4,
 "nbformat_minor": 2
}
